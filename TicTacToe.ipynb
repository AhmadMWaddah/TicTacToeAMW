{
 "cells": [
  {
   "cell_type": "markdown",
   "metadata": {
    "colab_type": "text",
    "id": "aAjb_hDyTKQh"
   },
   "source": [
    "# Tic Tac Toe Game \n",
    "##### Scratch Building\n",
    "##### No GUI Required "
   ]
  },
  {
   "cell_type": "markdown",
   "metadata": {
    "colab_type": "text",
    "id": "NG1KZg4sTKQj"
   },
   "source": [
    "#### Some suggested tools before you get started:\n",
    "To take input from a user:\n",
    "\n",
    "    player1 = input(\"Please pick a marker 'X' or 'O'\")\n",
    "    \n",
    "Note that input() takes in a string. If you need an integer value, use\n",
    "\n",
    "    position = int(input('Please enter a number'))\n",
    "    \n",
    "<br>To clear the screen between moves:\n",
    "\n",
    "    from IPython.display import clear_output\n",
    "    clear_output()\n",
    "    \n",
    "Note that clear_output() will only work in jupyter. To clear the screen in other IDEs, consider:\n",
    "\n",
    "    print('\\n'*100)\n",
    "    \n",
    "This scrolls the previous board up out of view. Now on to the program!"
   ]
  },
  {
   "cell_type": "markdown",
   "metadata": {
    "colab_type": "text",
    "id": "eq31aKoKTKQk"
   },
   "source": [
    "**Step 1: Write a function that can print out a board. Set up your board as a list, where each index 1-9 corresponds with a number on a number pad, so you get a 3 by 3 board representation.**"
   ]
  },
  {
   "cell_type": "code",
   "execution_count": 1,
   "metadata": {
    "colab": {},
    "colab_type": "code",
    "id": "v6oZEXZXTKQl"
   },
   "outputs": [],
   "source": [
    "from IPython.display import clear_output\n",
    "\n",
    "def board_size(cells):\n",
    "    print(f'||~~~~~||~~~~~||~~~~~||')\n",
    "    print(f'||  {cells[0]}  ||  {cells[1]}  ||  {cells[2]}  ||')\n",
    "    print(f'||~~~~~||~~~~~||~~~~~||')\n",
    "    print(f'||  {cells[3]}  ||  {cells[4]}  ||  {cells[5]}  ||')\n",
    "    print(f'||~~~~~||~~~~~||~~~~~||')\n",
    "    print(f'||  {cells[6]}  ||  {cells[7]}  ||  {cells[8]}  ||')\n",
    "    print(f'||~~~~~||~~~~~||~~~~~||')\n",
    "    "
   ]
  },
  {
   "cell_type": "markdown",
   "metadata": {
    "colab_type": "text",
    "id": "YE-nz_ETTKQo"
   },
   "source": [
    "**TEST Step 1:** run your function on a test version of the board list, and make adjustments as necessary"
   ]
  },
  {
   "cell_type": "code",
   "execution_count": 2,
   "metadata": {
    "colab": {},
    "colab_type": "code",
    "id": "4iQ9D-u5TKQp"
   },
   "outputs": [
    {
     "name": "stdout",
     "output_type": "stream",
     "text": [
      "||~~~~~||~~~~~||~~~~~||\n",
      "||  X  ||  O  ||  X  ||\n",
      "||~~~~~||~~~~~||~~~~~||\n",
      "||  O  ||  X  ||  O  ||\n",
      "||~~~~~||~~~~~||~~~~~||\n",
      "||  X  ||  O  ||  X  ||\n",
      "||~~~~~||~~~~~||~~~~~||\n"
     ]
    }
   ],
   "source": [
    "test_board = ['X','O','X','O','X','O','X','O','X']\n",
    "board_size(test_board)"
   ]
  },
  {
   "cell_type": "markdown",
   "metadata": {
    "colab_type": "text",
    "id": "WxeUw0FhTKQr"
   },
   "source": [
    "**Step 2: Write a function that can take in a player input and assign their marker as 'X' or 'O'. Think about using *while* loops to continually ask until you get a correct answer.**"
   ]
  },
  {
   "cell_type": "code",
   "execution_count": 2,
   "metadata": {
    "colab": {},
    "colab_type": "code",
    "id": "MG0XC4aXTKQs"
   },
   "outputs": [],
   "source": [
    "def player_input():\n",
    "    position = ''\n",
    "    while (position.upper() != 'X') or (position.upper() != 'O'):\n",
    "        position = input(' Please Enter \"X\" Or \"O\".: ')\n",
    "        if position.upper() == 'X':\n",
    "            print(f' Player {position.upper()}.')\n",
    "            break\n",
    "        elif position.upper() == 'O':\n",
    "            print(f' Player {position.upper()}.')\n",
    "            break\n",
    "\n"
   ]
  },
  {
   "cell_type": "markdown",
   "metadata": {
    "colab_type": "text",
    "id": "6fVimbgzTKQu"
   },
   "source": [
    "**TEST Step 2:** run the function to make sure it returns the desired output"
   ]
  },
  {
   "cell_type": "code",
   "execution_count": 4,
   "metadata": {
    "colab": {},
    "colab_type": "code",
    "id": "PJSO5QX1TKQu"
   },
   "outputs": [
    {
     "name": "stdout",
     "output_type": "stream",
     "text": [
      " Please Enter \"X\" Or \"O\".: ii\n",
      " Please Enter \"X\" Or \"O\".: o\n",
      " Player O.\n"
     ]
    }
   ],
   "source": [
    "player_input()"
   ]
  },
  {
   "cell_type": "markdown",
   "metadata": {
    "colab_type": "text",
    "id": "aQN1q9gGTKQw"
   },
   "source": [
    "**Step 3: Write a function that takes in the board list object, a marker ('X' or 'O'), and a desired position (number 1-9) and assigns it to the board.**"
   ]
  },
  {
   "cell_type": "code",
   "execution_count": 3,
   "metadata": {
    "colab": {},
    "colab_type": "code",
    "id": "drK45WDaTKQx"
   },
   "outputs": [],
   "source": [
    "thrd_brd = ['X','O','X','O','X','O','X','O','X']\n",
    "\n",
    "def place_marker(board, marker, position):\n",
    "    board[position] = marker \n",
    "\n",
    "        \n",
    "def display_board(cells):\n",
    "    print(f'| {cells[0]} | {cells[1]} | {cells[2]} |')\n",
    "    print(f'| {cells[3]} | {cells[4]} | {cells[5]} |')\n",
    "    print(f'| {cells[6]} | {cells[7]} | {cells[8]} |')\n",
    "\n"
   ]
  },
  {
   "cell_type": "markdown",
   "metadata": {
    "colab_type": "text",
    "id": "gapk660ATKQz"
   },
   "source": [
    "**TEST Step 3:** run the place marker function using test parameters and display the modified board"
   ]
  },
  {
   "cell_type": "code",
   "execution_count": 6,
   "metadata": {
    "colab": {},
    "colab_type": "code",
    "id": "4vIDyBjrTKQ0"
   },
   "outputs": [
    {
     "name": "stdout",
     "output_type": "stream",
     "text": [
      "| X | # | X |\n",
      "| O | X | O |\n",
      "| X | O | X |\n"
     ]
    }
   ],
   "source": [
    "place_marker(thrd_brd,'#',1)\n",
    "display_board(thrd_brd)"
   ]
  },
  {
   "cell_type": "markdown",
   "metadata": {
    "colab_type": "text",
    "id": "vRuvrYsVTKQ2"
   },
   "source": [
    "**Step 4: Write a function that takes in a board and a mark (X or O) and then checks to see if that mark has won. **"
   ]
  },
  {
   "cell_type": "code",
   "execution_count": 7,
   "metadata": {
    "colab": {},
    "colab_type": "code",
    "id": "Zl_L_t1xTKQ2"
   },
   "outputs": [],
   "source": [
    "def win_check(brd, mark):\n",
    "    if (brd[0] == mark and brd[1] == mark and brd[2] == mark) or (brd[3] == mark and brd[4] == mark and brd[5] == mark) or (brd[6] == mark and brd[7] == mark and brd[8] == mark) or (brd[0] == mark and brd[3] == mark and brd[6] == mark) or (brd[1] == mark and brd[4] == mark and brd[7] == mark) or (brd[2] == mark and brd[5] == mark and brd[8] == mark) or (brd[0] == mark and brd[5] == mark and brd[8] == mark) or (brd[2] == mark and brd[4] == mark and brd[6] == mark):\n",
    "        return True\n",
    "    else:\n",
    "        return False\n",
    "        "
   ]
  },
  {
   "cell_type": "markdown",
   "metadata": {
    "colab_type": "text",
    "id": "D9tY6vCHTKQ4"
   },
   "source": [
    "**TEST Step 4:** run the win_check function against our test_board - it should return True"
   ]
  },
  {
   "cell_type": "code",
   "execution_count": 8,
   "metadata": {
    "colab": {},
    "colab_type": "code",
    "id": "W_rBIIOCTKQ5"
   },
   "outputs": [
    {
     "data": {
      "text/plain": [
       "True"
      ]
     },
     "execution_count": 8,
     "metadata": {},
     "output_type": "execute_result"
    }
   ],
   "source": [
    "win_check(thrd_brd,'X')"
   ]
  },
  {
   "cell_type": "markdown",
   "metadata": {
    "colab_type": "text",
    "id": "ROj56ItpTKQ7"
   },
   "source": [
    "**Step 5: Write a function that uses the random module to randomly decide which player goes first. You may want to lookup random.randint() Return a string of which player went first.**"
   ]
  },
  {
   "cell_type": "code",
   "execution_count": 10,
   "metadata": {
    "colab": {},
    "colab_type": "code",
    "id": "NMgrAjU3TKQ7"
   },
   "outputs": [
    {
     "name": "stdout",
     "output_type": "stream",
     "text": [
      "Player O Will Be Starting The Game at First.\n"
     ]
    }
   ],
   "source": [
    "# Random Choice For String\n",
    "from random import choice\n",
    "\n",
    "def pick_turn():\n",
    "    play_turn = choice(['X', 'O'])\n",
    "    print(f'Player {play_turn} Will Be Starting The Game at First.')\n",
    "\n",
    "\n",
    "pick_turn()\n"
   ]
  },
  {
   "cell_type": "markdown",
   "metadata": {
    "colab_type": "text",
    "id": "7H1uXKU-TKQ9"
   },
   "source": [
    "**Step 6: Write a function that returns a boolean indicating whether a space on the board is freely available.**"
   ]
  },
  {
   "cell_type": "code",
   "execution_count": 11,
   "metadata": {
    "colab": {},
    "colab_type": "code",
    "id": "i0rtv4b3TKQ-"
   },
   "outputs": [
    {
     "data": {
      "text/plain": [
       "True"
      ]
     },
     "execution_count": 11,
     "metadata": {},
     "output_type": "execute_result"
    }
   ],
   "source": [
    "spc_brd = ['X','O','X','O','X','O',0,'O','X']\n",
    "def space_check(board, position):\n",
    "    if board[position] == 0:\n",
    "        return True\n",
    "    else:\n",
    "        return False\n",
    "    \n",
    "    \n",
    "space_check(spc_brd, 6)"
   ]
  },
  {
   "cell_type": "markdown",
   "metadata": {
    "colab_type": "text",
    "id": "TKfVJE_KTKRA"
   },
   "source": [
    "**Step 7: Write a function that checks if the board is full and returns a boolean value. True if full, False otherwise.**"
   ]
  },
  {
   "cell_type": "code",
   "execution_count": 12,
   "metadata": {
    "colab": {},
    "colab_type": "code",
    "id": "Vsa0TroYTKRB"
   },
   "outputs": [
    {
     "name": "stdout",
     "output_type": "stream",
     "text": [
      "No, Board Is Not Full.\n"
     ]
    }
   ],
   "source": [
    "ful_brd = ['X','O','X','O','X','O',' ','O','X']\n",
    "\n",
    "def chk_brd(brd):\n",
    "    if brd[0] == ' ' or brd[1] == ' ' or brd[2] == ' ' or brd[3] == ' ' or brd[4] == ' ' or brd[5] == ' ' or brd[6] == ' ' or brd[7] == ' ' or brd[8] == ' ':\n",
    "        print('No, Board Is Not Full.')\n",
    "    else:\n",
    "        print('Yes, Board Is Full.')\n",
    "\n",
    "\n",
    "chk_brd(ful_brd)"
   ]
  },
  {
   "cell_type": "markdown",
   "metadata": {
    "colab_type": "text",
    "id": "ju-R3rRATKRD"
   },
   "source": [
    "**Step 8: Write a function that asks for a player's next position (as a number 1-9) and then uses the function from step 6 to check if it's a free position. If it is, then return the position for later use.**"
   ]
  },
  {
   "cell_type": "code",
   "execution_count": 14,
   "metadata": {
    "colab": {},
    "colab_type": "code",
    "id": "zLusZVZETKRE"
   },
   "outputs": [
    {
     "name": "stdout",
     "output_type": "stream",
     "text": [
      " Please Enter Number Between 0 and 8: 2\n",
      " Full Cell. \n"
     ]
    }
   ],
   "source": [
    "spc_brd = ['X', '', 'X', 'O', 'X', 'O', 'X', 'O', 'X']\n",
    "\n",
    "\n",
    "def player_choice():\n",
    "    nxt_pos = int(input(' Please Enter Number Between 0 and 8: '))\n",
    "\n",
    "    def space_check(board, position):\n",
    "        if board[position] == '':\n",
    "            print(' Empty Cell. ')\n",
    "        else:\n",
    "            print(' Full Cell. ')\n",
    "\n",
    "    space_check(spc_brd, nxt_pos)\n",
    "\n",
    "\n",
    "player_choice()\n",
    "    \n",
    "    "
   ]
  },
  {
   "cell_type": "markdown",
   "metadata": {
    "colab_type": "text",
    "id": "E9ryWxTdTKRG"
   },
   "source": [
    "**Step 9: Write a function that asks the player if they want to play again and returns a boolean True if they do want to play again.**"
   ]
  },
  {
   "cell_type": "code",
   "execution_count": 15,
   "metadata": {
    "colab": {},
    "colab_type": "code",
    "id": "1_Nt3ngsTKRG"
   },
   "outputs": [
    {
     "name": "stdout",
     "output_type": "stream",
     "text": [
      "Want To Play Again, (Yes Or No): no\n"
     ]
    },
    {
     "data": {
      "text/plain": [
       "False"
      ]
     },
     "execution_count": 15,
     "metadata": {},
     "output_type": "execute_result"
    }
   ],
   "source": [
    "def replay():\n",
    "    rply = input('Want To Play Again, (Yes Or No): ')\n",
    "    if rply.lower() == 'no':\n",
    "        return False\n",
    "    elif rply.lower() == 'yes':\n",
    "        return True\n",
    "    else:\n",
    "        print('wronh')\n",
    "\n",
    "\n",
    "replay()"
   ]
  },
  {
   "cell_type": "markdown",
   "metadata": {
    "colab_type": "text",
    "collapsed": true,
    "id": "gjLdHz0MTKRI"
   },
   "source": [
    "**Step 10: Here comes the hard part! Use while loops and the functions you've made to run the game!**"
   ]
  },
  {
   "cell_type": "code",
   "execution_count": null,
   "metadata": {
    "colab": {},
    "colab_type": "code",
    "id": "84vKO9k9TKRJ"
   },
   "outputs": [
    {
     "name": "stdout",
     "output_type": "stream",
     "text": [
      "Board Is Not Full.\n",
      "||~~~~~||~~~~~||~~~~~||\n",
      "||     ||     ||     ||\n",
      "||~~~~~||~~~~~||~~~~~||\n",
      "||     ||     ||     ||\n",
      "||~~~~~||~~~~~||~~~~~||\n",
      "||     ||     ||     ||\n",
      "||~~~~~||~~~~~||~~~~~||\n",
      " Please Enter \"X\" Or \"O\".: x\n",
      " Player One X.\n",
      "||~~~~~||~~~~~||~~~~~||\n",
      "||     ||     ||     ||\n",
      "||~~~~~||~~~~~||~~~~~||\n",
      "||     ||     ||     ||\n",
      "||~~~~~||~~~~~||~~~~~||\n",
      "||     ||     ||     ||\n",
      "||~~~~~||~~~~~||~~~~~||\n",
      " Enter Cell: 4\n",
      "||~~~~~||~~~~~||~~~~~||\n",
      "||     ||     ||     ||\n",
      "||~~~~~||~~~~~||~~~~~||\n",
      "||     ||  X  ||     ||\n",
      "||~~~~~||~~~~~||~~~~~||\n",
      "||     ||     ||     ||\n",
      "||~~~~~||~~~~~||~~~~~||\n",
      "Board Is Not Full.\n",
      "||~~~~~||~~~~~||~~~~~||\n",
      "||     ||     ||     ||\n",
      "||~~~~~||~~~~~||~~~~~||\n",
      "||     ||  X  ||     ||\n",
      "||~~~~~||~~~~~||~~~~~||\n",
      "||     ||     ||     ||\n",
      "||~~~~~||~~~~~||~~~~~||\n",
      " Please Enter \"X\" Or \"O\".: o\n",
      " Player One O.\n",
      "||~~~~~||~~~~~||~~~~~||\n",
      "||     ||     ||     ||\n",
      "||~~~~~||~~~~~||~~~~~||\n",
      "||     ||  X  ||     ||\n",
      "||~~~~~||~~~~~||~~~~~||\n",
      "||     ||     ||     ||\n",
      "||~~~~~||~~~~~||~~~~~||\n",
      " Enter Cell: 6\n",
      "||~~~~~||~~~~~||~~~~~||\n",
      "||     ||     ||     ||\n",
      "||~~~~~||~~~~~||~~~~~||\n",
      "||     ||  X  ||     ||\n",
      "||~~~~~||~~~~~||~~~~~||\n",
      "||  O  ||     ||     ||\n",
      "||~~~~~||~~~~~||~~~~~||\n",
      "Board Is Not Full.\n",
      "||~~~~~||~~~~~||~~~~~||\n",
      "||     ||     ||     ||\n",
      "||~~~~~||~~~~~||~~~~~||\n",
      "||     ||  X  ||     ||\n",
      "||~~~~~||~~~~~||~~~~~||\n",
      "||  O  ||     ||     ||\n",
      "||~~~~~||~~~~~||~~~~~||\n"
     ]
    }
   ],
   "source": [
    "tic_brd = [' ', ' ', ' ', ' ', ' ', ' ', ' ', ' ', ' ']\n",
    "\n",
    "\n",
    "# Check Board Cells.\n",
    "def chk_brd(brd):\n",
    "    while brd[0] == ' ' or brd[1] == ' ' or brd[2] == ' ' or brd[3] == ' ' or brd[4] == ' ' or brd[5] == ' ' or brd[6] == ' ' or brd[7] == ' ' or brd[8] == ' ':\n",
    "        print('Board Is Not Full.')\n",
    "\n",
    "        def board_size(cells):\n",
    "            print(f'||~~~~~||~~~~~||~~~~~||')\n",
    "            print(f'||  {cells[0]}  ||  {cells[1]}  ||  {cells[2]}  ||')\n",
    "            print(f'||~~~~~||~~~~~||~~~~~||')\n",
    "            print(f'||  {cells[3]}  ||  {cells[4]}  ||  {cells[5]}  ||')\n",
    "            print(f'||~~~~~||~~~~~||~~~~~||')\n",
    "            print(f'||  {cells[6]}  ||  {cells[7]}  ||  {cells[8]}  ||')\n",
    "            print(f'||~~~~~||~~~~~||~~~~~||')\n",
    "\n",
    "        board_size(tic_brd)\n",
    "\n",
    "        def player_input():\n",
    "            position_one = ''\n",
    "            while (position_one.upper() != 'X') or (position_one.upper() != 'O'):\n",
    "                position_one = input(' Please Enter \"X\" Or \"O\".: ').upper()\n",
    "                if position_one.upper() == 'X':\n",
    "                    print(f' Player One {position_one}.')\n",
    "                    break\n",
    "                elif position_one.upper() == 'O':\n",
    "                    print(f' Player One {position_one}.')\n",
    "                    break\n",
    "\n",
    "            def place_marker(board):\n",
    "                if position_one:\n",
    "                    cel = int(input(' Enter Cell: '))\n",
    "                    while cel < 0 or cel > 9:\n",
    "                        cel = int(input(f' Cell {cel} Is Out Of Range ( 0 - 8 ): '))\n",
    "                    else:\n",
    "                        while board[cel] != ' ':\n",
    "                            cel = int(input(f' Cell {cel} Is Full Enter Another Cell: '))\n",
    "                            continue\n",
    "                        else:\n",
    "                            board[cel] = position_one\n",
    "\n",
    "            board_size(tic_brd)\n",
    "\n",
    "            # Check Win\n",
    "            def win_check(brdd, pos_on):\n",
    "                while (brdd[0] == pos_on and brdd[1] == pos_on and brdd[2] == pos_on) or (\n",
    "                        brdd[3] == pos_on and brdd[4] == pos_on and brdd[5] == pos_on) or (\n",
    "                        brdd[6] == pos_on and brdd[7] == pos_on and brdd[8] == pos_on) or (\n",
    "                        brdd[0] == pos_on and brdd[3] == pos_on and brdd[6] == pos_on) or (\n",
    "                        brdd[1] == pos_on and brdd[4] == pos_on and brdd[7] == pos_on) or (\n",
    "                        brdd[2] == pos_on and brdd[5] == pos_on and brdd[8] == pos_on) or (\n",
    "                        brdd[0] == pos_on and brdd[5] == pos_on and brdd[8] == pos_on) or (\n",
    "                        brdd[2] == pos_on and brdd[4] == pos_on and brdd[6] == pos_on):\n",
    "                    print(f'Game Over. {pos_on} Win.')\n",
    "                else:\n",
    "                    place_marker(tic_brd)\n",
    "                    board_size(tic_brd)\n",
    "\n",
    "            win_check(tic_brd, position_one)\n",
    "\n",
    "        player_input()\n",
    "    else:\n",
    "        print(f'Yes, Board Is Full. Game Over. ')\n",
    "\n",
    "\n",
    "chk_brd(tic_brd)\n",
    "\n"
   ]
  },
  {
   "cell_type": "markdown",
   "metadata": {
    "colab_type": "text",
    "collapsed": true,
    "id": "V3AlA00FTKRL"
   },
   "source": [
    "## Good Job!"
   ]
  }
 ],
 "metadata": {
  "colab": {
   "name": "TicTacToe.ipynb",
   "provenance": []
  },
  "kernelspec": {
   "display_name": "Python 3",
   "language": "python",
   "name": "python3"
  },
  "language_info": {
   "codemirror_mode": {
    "name": "ipython",
    "version": 3
   },
   "file_extension": ".py",
   "mimetype": "text/x-python",
   "name": "python",
   "nbconvert_exporter": "python",
   "pygments_lexer": "ipython3",
   "version": "3.6.9"
  }
 },
 "nbformat": 4,
 "nbformat_minor": 1
}
